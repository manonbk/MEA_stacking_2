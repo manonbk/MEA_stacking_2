{
 "cells": [
  {
   "cell_type": "markdown",
   "metadata": {},
   "source": [
    "# RNA Structure prediction maximizing expected accuracy and stacking"
   ]
  },
  {
   "cell_type": "markdown",
   "metadata": {},
   "source": [
    "### Import Modules and test files"
   ]
  },
  {
   "cell_type": "code",
   "execution_count": 1,
   "metadata": {},
   "outputs": [
    {
     "name": "stdout",
     "output_type": "stream",
     "text": [
      "c:\\Users\\manon\\OneDrive\\Bureau\\X\\bioinf_MEA_stacking\\MEA_stacking\n"
     ]
    }
   ],
   "source": [
    "import sys\n",
    "import os\n",
    "\n",
    "# Récupérer le chemin absolu du dossier parent\n",
    "parent_dir = os.path.abspath(os.path.join(os.getcwd(), \"..\"))\n",
    "\n",
    "# Ajouter ce chemin aux modules Python\n",
    "sys.path.append(parent_dir)\n",
    "print(parent_dir)"
   ]
  },
  {
   "cell_type": "code",
   "execution_count": 2,
   "metadata": {},
   "outputs": [],
   "source": [
    "from modules.nussinov import*\n",
    "from modules.simple_MEA import *\n",
    "from modules.MEA_stacking import *"
   ]
  },
  {
   "cell_type": "code",
   "execution_count": 3,
   "metadata": {},
   "outputs": [
    {
     "name": "stdout",
     "output_type": "stream",
     "text": [
      "Folder path: c:\\Users\\manon\\OneDrive\\Bureau\\X\\bioinf_MEA_stacking\\MEA_stacking\\data\n"
     ]
    }
   ],
   "source": [
    "from tests.importdata import *"
   ]
  },
  {
   "cell_type": "code",
   "execution_count": 4,
   "metadata": {},
   "outputs": [
    {
     "name": "stdout",
     "output_type": "stream",
     "text": [
      "✅ File 5S_rRNA.apsi-54.sci-95.no-1.ref.fa loaded with success (fasta)\n",
      "✅ File Intron_gpII.apsi-54.sci-66.no-1.ref.fa loaded with success (fasta)\n",
      "✅ File RF00100.stockholm.txt loaded with success (stockholm)\n",
      "✅ File RF00568.stockholm.txt loaded with success (stockholm)\n",
      "✅ File SRP_euk_arch.apsi-34.sci-67.no-1.ref.fa loaded with success (fasta)\n",
      "✅ File SRP_euk_arch.apsi-68.sci-83.no-1.ref.fa loaded with success (fasta)\n",
      "✅ File tRNA_15.stk loaded with success (stockholm)\n",
      "✅ File tRNA_5.aln loaded with success (clustal)\n",
      "✅ File tRNA_7-clustalw.aln loaded with success (clustal)\n",
      "✅ File tRNA_7.stk loaded with success (stockholm)\n"
     ]
    }
   ],
   "source": [
    "rna_files = import_test_files()"
   ]
  },
  {
   "cell_type": "markdown",
   "metadata": {},
   "source": [
    "### Choose file to test"
   ]
  },
  {
   "cell_type": "code",
   "execution_count": 5,
   "metadata": {},
   "outputs": [
    {
     "name": "stdout",
     "output_type": "stream",
     "text": [
      "[((0.0, 0.0, 0.0, 0.0, 0.0, 0.0, 0.0, 0.0, 0.0), (0.0, 0.0, 0.0, 0.0, 0.0, 0.0, 0.0, 0.008949116392830093, 0.0), (0.0, 0.0, 0.0, 0.0, 0.0, 0.0, 0.0, 0.0, 0.0015019584990979015), (0.0, 0.0, 0.0, 0.0, 0.0, 0.0, 0.0, 0.0, 0.0), (0.0, 0.0, 0.0, 0.0, 0.0, 0.0, 0.0, 0.0, 0.0003487121040868784), (0.0, 0.0, 0.0, 0.0, 0.0, 0.0, 0.0, 0.0, 0.0), (0.0, 0.0, 0.0, 0.0, 0.0, 0.0, 0.0, 0.0, 0.0), (0.0, 0.0, 0.0, 0.0, 0.0, 0.0, 0.0, 0.0, 0.0), (0.0, 0.0, 0.0, 0.0, 0.0, 0.0, 0.0, 0.0, 0.0))]\n"
     ]
    }
   ],
   "source": [
    "simple_test= [\"GCACGACG\"]\n",
    "print (list_of_bp_proba_and_struc(simple_test)[0])"
   ]
  },
  {
   "cell_type": "code",
   "execution_count": 6,
   "metadata": {},
   "outputs": [
    {
     "name": "stdout",
     "output_type": "stream",
     "text": [
      "['GCAGUCGUGGCCGAGU---GGUUAAGGCGUCUGACUCGAAAUCAGAUUCCCUCUGGGAGCGUAGGUUCGAAUCCUACCGGCUGCG', 'GCGGGGGUGCCCGAGCCUGGCCAAAGGGGUCGGGCUCAGGACCCGAUGGCGUAGGCCUGCGUGGGUUCAAAUCCCACCCCCCGCA', 'UGGAGUAUAGCCAAG--UGG--UAAGGCAUCGGUUUUUGGUACCG---------GCAUGCAAAGGUUCGAAUCCUUUUACUCCAG', 'CGGAAAGUAGCUUAGCUUGG--UAGAGCACUCGGUUUGGGACCGA---------GGGGUCGCAGGUUCGAAUCCUGUCUUUCCGA', 'GCCGGGGUGGGGUAGUGGCCAUCCUGG---GGGACUGUGGAUCCC----------CUGACCCGGGUUCAAUUCCCGGUCCCGGCC', 'GUAAACAUAGUUUA------AUCAAAACAUUAGAUUGUGAAUCUAA----------CAAUAGAGGCUCGAAACCUCUUGCUUACC', 'AGUAAAGUCAGCUA------AAAAAGCUUUUGGGCCCAUACCCCAA----------ACAUGUUGGUUAAACCCCUUCCUUUACUA']\n"
     ]
    }
   ],
   "source": [
    "test_list_of_sequences=rna_files[\"tRNA_7.stk\"]\n",
    "print(test_list_of_sequences)"
   ]
  },
  {
   "cell_type": "code",
   "execution_count": null,
   "metadata": {},
   "outputs": [
    {
     "name": "stdout",
     "output_type": "stream",
     "text": [
      "Building consensus structure of : \n",
      "['GCAGUCGUGGCCGAGU---GGUUAAGGCGUCUGACUCGAAAUCAGAUUCCCUCUGGGAGCGUAGGUUCGAAUCCUACCGGCUGCG', 'GCGGGGGUGCCCGAGCCUGGCCAAAGGGGUCGGGCUCAGGACCCGAUGGCGUAGGCCUGCGUGGGUUCAAAUCCCACCCCCCGCA', 'UGGAGUAUAGCCAAG--UGG--UAAGGCAUCGGUUUUUGGUACCG---------GCAUGCAAAGGUUCGAAUCCUUUUACUCCAG', 'CGGAAAGUAGCUUAGCUUGG--UAGAGCACUCGGUUUGGGACCGA---------GGGGUCGCAGGUUCGAAUCCUGUCUUUCCGA', 'GCCGGGGUGGGGUAGUGGCCAUCCUGG---GGGACUGUGGAUCCC----------CUGACCCGGGUUCAAUUCCCGGUCCCGGCC', 'GUAAACAUAGUUUA------AUCAAAACAUUAGAUUGUGAAUCUAA----------CAAUAGAGGCUCGAAACCUCUUGCUUACC', 'AGUAAAGUCAGCUA------AAAAAGCUUUUGGGCCCAUACCCCAA----------ACAUGUUGGUUAAACCCCUUCCUUUACUA']\n",
      "Using the MEA_stacking with parameter gamma =2, delta=0\n",
      "...\n",
      "['(((((((..(((.............)))((((((.......))))))((((...))))..(((((.......)))))))))))).', '(((((((..((.((((((((((.....)))))))))).)).......(((....)))...(((((.......)))))))))))).', '(((((((...(((....)))......((((((((.......))))...........))))(((((.......)))))))))))).', '((((((((((....((((......))))..((((.(((.((((.............)))).)))..))))...))).))))))).', '.(((((((((........)))))))))...((((((((((((((..................))))))).....)))))))....', '.....(((((((((................))))))))).....................(((((.......)))))........', '(((((((..((((...........)))).(((((.......))))).................(((...))).....))))))).']\n",
      ".(((((((..(((.............)))..((((.......))))...............(((((.......))))))))))))\n",
      "Building consensus structure of : \n",
      "['GCAGUCGUGGCCGAGU---GGUUAAGGCGUCUGACUCGAAAUCAGAUUCCCUCUGGGAGCGUAGGUUCGAAUCCUACCGGCUGCG', 'GCGGGGGUGCCCGAGCCUGGCCAAAGGGGUCGGGCUCAGGACCCGAUGGCGUAGGCCUGCGUGGGUUCAAAUCCCACCCCCCGCA', 'UGGAGUAUAGCCAAG--UGG--UAAGGCAUCGGUUUUUGGUACCG---------GCAUGCAAAGGUUCGAAUCCUUUUACUCCAG', 'CGGAAAGUAGCUUAGCUUGG--UAGAGCACUCGGUUUGGGACCGA---------GGGGUCGCAGGUUCGAAUCCUGUCUUUCCGA', 'GCCGGGGUGGGGUAGUGGCCAUCCUGG---GGGACUGUGGAUCCC----------CUGACCCGGGUUCAAUUCCCGGUCCCGGCC', 'GUAAACAUAGUUUA------AUCAAAACAUUAGAUUGUGAAUCUAA----------CAAUAGAGGCUCGAAACCUCUUGCUUACC', 'AGUAAAGUCAGCUA------AAAAAGCUUUUGGGCCCAUACCCCAA----------ACAUGUUGGUUAAACCCCUUCCUUUACUA']\n",
      "Using the simple MEA with parameter gamma = 2\n",
      "...\n",
      "['(((((((..(((.............)))((((((.......))))))((((...))))..(((((.......)))))))))))).', '(((((((..((.((((((((((.....)))))))))).)).......(((....)))...(((((.......)))))))))))).', '(((((((...(((....)))......((((((((.......))))...........))))(((((.......)))))))))))).', '((((((((((....((((......))))..((((.(((.((((.............)))).)))..))))...))).))))))).', '.(((((((((........)))))))))...((((((((((((((..................))))))).....)))))))....', '.....(((((((((................))))))))).....................(((((.......)))))........', '(((((((..((((...........)))).(((((.......))))).................(((...))).....))))))).']\n",
      ".(((((((..(((.............)))..((((.......))))...............(((((.......))))))))))))\n"
     ]
    }
   ],
   "source": [
    "ss= MEA_stacking(test_list_of_sequences, 2, 2, 0)\n",
    "print(ss)\n",
    "\n",
    "ss2=MEA(test_list_of_sequences, 2, 0)\n",
    "print(ss2)"
   ]
  },
  {
   "cell_type": "markdown",
   "metadata": {},
   "source": [
    "### Comparison"
   ]
  },
  {
   "cell_type": "code",
   "execution_count": 8,
   "metadata": {},
   "outputs": [],
   "source": [
    "from tests.compare import *"
   ]
  },
  {
   "cell_type": "code",
   "execution_count": 9,
   "metadata": {},
   "outputs": [
    {
     "name": "stdout",
     "output_type": "stream",
     "text": [
      "Building consensus structure of : \n",
      "['GCAGUCGUGGCCGAGU---GGUUAAGGCGUCUGACUCGAAAUCAGAUUCCCUCUGGGAGCGUAGGUUCGAAUCCUACCGGCUGCG', 'GCGGGGGUGCCCGAGCCUGGCCAAAGGGGUCGGGCUCAGGACCCGAUGGCGUAGGCCUGCGUGGGUUCAAAUCCCACCCCCCGCA', 'UGGAGUAUAGCCAAG--UGG--UAAGGCAUCGGUUUUUGGUACCG---------GCAUGCAAAGGUUCGAAUCCUUUUACUCCAG', 'CGGAAAGUAGCUUAGCUUGG--UAGAGCACUCGGUUUGGGACCGA---------GGGGUCGCAGGUUCGAAUCCUGUCUUUCCGA', 'GCCGGGGUGGGGUAGUGGCCAUCCUGG---GGGACUGUGGAUCCC----------CUGACCCGGGUUCAAUUCCCGGUCCCGGCC', 'GUAAACAUAGUUUA------AUCAAAACAUUAGAUUGUGAAUCUAA----------CAAUAGAGGCUCGAAACCUCUUGCUUACC', 'AGUAAAGUCAGCUA------AAAAAGCUUUUGGGCCCAUACCCCAA----------ACAUGUUGGUUAAACCCCUUCCUUUACUA']\n",
      "Using the MEA_stacking with parameter gamma =2, delta=1\n",
      "...\n",
      "['(((((((..(((.............)))((((((.......))))))((((...))))..(((((.......)))))))))))).', '(((((((..((.((((((((((.....)))))))))).)).......(((....)))...(((((.......)))))))))))).', '(((((((...(((....)))......((((((((.......))))...........))))(((((.......)))))))))))).', '((((((((((....((((......))))..((((.(((.((((.............)))).)))..))))...))).))))))).', '.(((((((((........)))))))))...((((((((((((((..................))))))).....)))))))....', '.....(((((((((................))))))))).....................(((((.......)))))........', '(((((((..((((...........)))).(((((.......))))).................(((...))).....))))))).']\n",
      "Building consensus structure of : \n",
      "['GCAGUCGUGGCCGAGU---GGUUAAGGCGUCUGACUCGAAAUCAGAUUCCCUCUGGGAGCGUAGGUUCGAAUCCUACCGGCUGCG', 'GCGGGGGUGCCCGAGCCUGGCCAAAGGGGUCGGGCUCAGGACCCGAUGGCGUAGGCCUGCGUGGGUUCAAAUCCCACCCCCCGCA', 'UGGAGUAUAGCCAAG--UGG--UAAGGCAUCGGUUUUUGGUACCG---------GCAUGCAAAGGUUCGAAUCCUUUUACUCCAG', 'CGGAAAGUAGCUUAGCUUGG--UAGAGCACUCGGUUUGGGACCGA---------GGGGUCGCAGGUUCGAAUCCUGUCUUUCCGA', 'GCCGGGGUGGGGUAGUGGCCAUCCUGG---GGGACUGUGGAUCCC----------CUGACCCGGGUUCAAUUCCCGGUCCCGGCC', 'GUAAACAUAGUUUA------AUCAAAACAUUAGAUUGUGAAUCUAA----------CAAUAGAGGCUCGAAACCUCUUGCUUACC', 'AGUAAAGUCAGCUA------AAAAAGCUUUUGGGCCCAUACCCCAA----------ACAUGUUGGUUAAACCCCUUCCUUUACUA']\n",
      "Using the simple MEA with parameter gamma = 2\n",
      "...\n",
      "['(((((((..(((.............)))((((((.......))))))((((...))))..(((((.......)))))))))))).', '(((((((..((.((((((((((.....)))))))))).)).......(((....)))...(((((.......)))))))))))).', '(((((((...(((....)))......((((((((.......))))...........))))(((((.......)))))))))))).', '((((((((((....((((......))))..((((.(((.((((.............)))).)))..))))...))).))))))).', '.(((((((((........)))))))))...((((((((((((((..................))))))).....)))))))....', '.....(((((((((................))))))))).....................(((((.......)))))........', '(((((((..((((...........)))).(((((.......))))).................(((...))).....))))))).']\n",
      "Building consensus structure of : \n",
      "['GCAGUCGUGGCCGAGU---GGUUAAGGCGUCUGACUCGAAAUCAGAUUCCCUCUGGGAGCGUAGGUUCGAAUCCUACCGGCUGCG', 'GCGGGGGUGCCCGAGCCUGGCCAAAGGGGUCGGGCUCAGGACCCGAUGGCGUAGGCCUGCGUGGGUUCAAAUCCCACCCCCCGCA', 'UGGAGUAUAGCCAAG--UGG--UAAGGCAUCGGUUUUUGGUACCG---------GCAUGCAAAGGUUCGAAUCCUUUUACUCCAG', 'CGGAAAGUAGCUUAGCUUGG--UAGAGCACUCGGUUUGGGACCGA---------GGGGUCGCAGGUUCGAAUCCUGUCUUUCCGA', 'GCCGGGGUGGGGUAGUGGCCAUCCUGG---GGGACUGUGGAUCCC----------CUGACCCGGGUUCAAUUCCCGGUCCCGGCC', 'GUAAACAUAGUUUA------AUCAAAACAUUAGAUUGUGAAUCUAA----------CAAUAGAGGCUCGAAACCUCUUGCUUACC', 'AGUAAAGUCAGCUA------AAAAAGCUUUUGGGCCCAUACCCCAA----------ACAUGUUGGUUAAACCCCUUCCUUUACUA']\n",
      "Using RNA Alifold\n",
      "GCAGUCGUGGCCGAGU---GGUUAAGGCGUCUGACUCGAAAUCAGAUUCCCUCUGGGAGCGUAGGUUCGAAUCCUACCGGCUGCG\n",
      "GCGGGGGUGCCCGAGCCUGGCCAAAGGGGUCGGGCUCAGGACCCGAUGGCGUAGGCCUGCGUGGGUUCAAAUCCCACCCCCCGCA\n",
      "UGGAGUAUAGCCAAG--UGG--UAAGGCAUCGGUUUUUGGUACCG---------GCAUGCAAAGGUUCGAAUCCUUUUACUCCAG\n",
      "CGGAAAGUAGCUUAGCUUGG--UAGAGCACUCGGUUUGGGACCGA---------GGGGUCGCAGGUUCGAAUCCUGUCUUUCCGA\n",
      "GCCGGGGUGGGGUAGUGGCCAUCCUGG---GGGACUGUGGAUCCC----------CUGACCCGGGUUCAAUUCCCGGUCCCGGCC\n",
      "GUAAACAUAGUUUA------AUCAAAACAUUAGAUUGUGAAUCUAA----------CAAUAGAGGCUCGAAACCUCUUGCUUACC\n",
      "AGUAAAGUCAGCUA------AAAAAGCUUUUGGGCCCAUACCCCAA----------ACAUGUUGGUUAAACCCCUUCCUUUACUA\n",
      "(((((((..(((.............)))..((((.......))))...............(((((.......)))))))))))). [ -25.82,   7.52 ]\n",
      "\n",
      "['.(((((((..(((.............))).(((((.......)))))..............(((((.......))))))))))))', '.(((((((..(((.............)))..((((.......))))...............(((((.......))))))))))))', '(((((((..(((.............)))..((((.......))))...............(((((.......)))))))))))).']\n"
     ]
    },
    {
     "data": {
      "image/png": "[encoded data removed]",
      "text/plain": [
       "<Figure size 800x600 with 2 Axes>"
      ]
     },
     "metadata": {},
     "output_type": "display_data"
    }
   ],
   "source": [
    "\n",
    "sim_matrix = similarity_matrix(test_list_of_sequences)\n",
    "plot_similarity_matrix(sim_matrix, method_names)"
   ]
  },
  {
   "cell_type": "markdown",
   "metadata": {},
   "source": [
    "### Visualisation"
   ]
  },
  {
   "cell_type": "code",
   "execution_count": 10,
   "metadata": {},
   "outputs": [
    {
     "data": {
      "text/plain": [
       "'ss=\".(((((((.((((((.).).).)..))))(((((((().).)))))))((().)..))).)((((((.).)..))))))))))))\"\\n\\nimport tempfile\\nfrom IPython.display import SVG\\n\\nsequence=\"\".join([\".\" for i in range(len(ss))])\\n\\nfp = tempfile.NamedTemporaryFile(suffix=\".svg\", delete=False)\\nRNA.svg_rna_plot(sequence, structure=ss, ssfile=fp.name)\\nSVG(fp.name)'"
      ]
     },
     "execution_count": 10,
     "metadata": {},
     "output_type": "execute_result"
    }
   ],
   "source": [
    "\"\"\"ss=\".(((((((.((((((.).).).)..))))(((((((().).)))))))((().)..))).)((((((.).)..))))))))))))\"\n",
    "\n",
    "import tempfile\n",
    "from IPython.display import SVG\n",
    "\n",
    "sequence=\"\".join([\".\" for i in range(len(ss))])\n",
    "\n",
    "fp = tempfile.NamedTemporaryFile(suffix=\".svg\", delete=False)\n",
    "RNA.svg_rna_plot(sequence, structure=ss, ssfile=fp.name)\n",
    "SVG(fp.name)\"\"\""
   ]
  }
 ],
 "metadata": {
  "kernelspec": {
   "display_name": "vienna",
   "language": "python",
   "name": "python3"
  },
  "language_info": {
   "codemirror_mode": {
    "name": "ipython",
    "version": 3
   },
   "file_extension": ".py",
   "mimetype": "text/x-python",
   "name": "python",
   "nbconvert_exporter": "python",
   "pygments_lexer": "ipython3",
   "version": "3.9.19"
  }
 },
 "nbformat": 4,
 "nbformat_minor": 2
}
