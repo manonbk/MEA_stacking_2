{
 "cells": [
  {
   "cell_type": "code",
   "execution_count": 4,
   "metadata": {},
   "outputs": [
    {
     "name": "stdout",
     "output_type": "stream",
     "text": [
      "c:\\Users\\manon\\OneDrive\\Bureau\\X\\bioinf_MEA_stacking\\MEA_stacking\n"
     ]
    }
   ],
   "source": [
    "import sys\n",
    "import os\n",
    "\n",
    "# Récupérer le chemin absolu du dossier parent\n",
    "parent_dir = os.path.abspath(os.path.join(os.getcwd(), \"..\"))\n",
    "\n",
    "# Ajouter ce chemin aux modules Python\n",
    "sys.path.append(parent_dir)\n",
    "print(parent_dir)"
   ]
  }
 ],
 "metadata": {
  "kernelspec": {
   "display_name": "vienna",
   "language": "python",
   "name": "python3"
  },
  "language_info": {
   "codemirror_mode": {
    "name": "ipython",
    "version": 3
   },
   "file_extension": ".py",
   "mimetype": "text/x-python",
   "name": "python",
   "nbconvert_exporter": "python",
   "pygments_lexer": "ipython3",
   "version": "3.9.19"
  }
 },
 "nbformat": 4,
 "nbformat_minor": 2
}
