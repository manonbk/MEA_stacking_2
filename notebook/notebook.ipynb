{
 "cells": [
  {
   "cell_type": "markdown",
   "metadata": {},
   "source": [
    "# RNA Structure prediction maximizing expected accuracy and stacking"
   ]
  },
  {
   "cell_type": "markdown",
   "metadata": {},
   "source": [
    "### Import Modules and test files"
   ]
  },
  {
   "cell_type": "code",
   "execution_count": null,
   "metadata": {},
   "outputs": [],
   "source": [
    "import sys\n",
    "import os\n",
    "\n",
    "# Récupérer le chemin absolu du dossier parent\n",
    "parent_dir = os.path.abspath(os.path.join(os.getcwd(), \"..\"))\n",
    "\n",
    "# Ajouter ce chemin aux modules Python\n",
    "sys.path.append(parent_dir)\n",
    "print(parent_dir)"
   ]
  },
  {
   "cell_type": "code",
   "execution_count": null,
   "metadata": {},
   "outputs": [],
   "source": [
    "from modules.nussinov import*\n",
    "from modules.simple_MEA import *\n",
    "from modules.MEA_stacking import *\n",
    "from tests.compare import *"
   ]
  },
  {
   "cell_type": "code",
   "execution_count": null,
   "metadata": {},
   "outputs": [],
   "source": [
    "from tests.importdata import *"
   ]
  },
  {
   "cell_type": "code",
   "execution_count": null,
   "metadata": {},
   "outputs": [],
   "source": [
    "rna_files = import_test_files()"
   ]
  },
  {
   "cell_type": "markdown",
   "metadata": {},
   "source": [
    "### Choose file to test"
   ]
  },
  {
   "cell_type": "code",
   "execution_count": null,
   "metadata": {},
   "outputs": [],
   "source": [
    "test_list_of_sequences=rna_files[\"tRNA_7-clustalw.aln\"]\n",
    "print(test_list_of_sequences)\n",
    "\n",
    "\n"
   ]
  },
  {
   "cell_type": "markdown",
   "metadata": {},
   "source": [
    "### Comparison"
   ]
  },
  {
   "cell_type": "code",
   "execution_count": null,
   "metadata": {},
   "outputs": [],
   "source": [
    "\n",
    "structures, sim_matrix = similarity_matrix(test_list_of_sequences,levenshtein_distance,1,2,2)\n",
    "plot_similarity_matrix(sim_matrix, method_names)"
   ]
  },
  {
   "cell_type": "markdown",
   "metadata": {},
   "source": [
    "### Visualisation"
   ]
  },
  {
   "cell_type": "code",
   "execution_count": null,
   "metadata": {},
   "outputs": [],
   "source": [
    "import tempfile\n",
    "from IPython.display import SVG"
   ]
  },
  {
   "cell_type": "code",
   "execution_count": null,
   "metadata": {},
   "outputs": [],
   "source": [
    "#MEA WITH STACKING\n",
    "\n",
    "ss=structures[0]\n",
    "\n",
    "sequence=\"\".join([\".\" for i in range(len(ss))])\n",
    "\n",
    "fp = tempfile.NamedTemporaryFile(suffix=\".svg\", delete=False)\n",
    "RNA.svg_rna_plot(sequence, structure=ss, ssfile=fp.name)\n",
    "SVG(fp.name)"
   ]
  },
  {
   "cell_type": "code",
   "execution_count": null,
   "metadata": {},
   "outputs": [],
   "source": [
    "#MEA\n",
    "ss=structures[1]\n",
    "\n",
    "sequence=\"\".join([\".\" for i in range(len(ss))])\n",
    "\n",
    "fp = tempfile.NamedTemporaryFile(suffix=\".svg\", delete=False)\n",
    "RNA.svg_rna_plot(sequence, structure=ss, ssfile=fp.name)\n",
    "SVG(fp.name)"
   ]
  },
  {
   "cell_type": "code",
   "execution_count": null,
   "metadata": {},
   "outputs": [],
   "source": [
    "#ALIFOLD\n",
    "ss=structures[2]\n",
    "\n",
    "sequence=\"\".join([\".\" for i in range(len(ss))])\n",
    "\n",
    "fp = tempfile.NamedTemporaryFile(suffix=\".svg\", delete=False)\n",
    "RNA.svg_rna_plot(sequence, structure=ss, ssfile=fp.name)\n",
    "SVG(fp.name)"
   ]
  },
  {
   "cell_type": "markdown",
   "metadata": {},
   "source": [
    "### Test with different parameters"
   ]
  },
  {
   "cell_type": "markdown",
   "metadata": {},
   "source": [
    "We first used Levenshtein distance to find optimised values of gamma and delta."
   ]
  },
  {
   "cell_type": "code",
   "execution_count": null,
   "metadata": {},
   "outputs": [],
   "source": [
    "import matplotlib.pyplot as plt\n",
    "\n",
    "ss0 = alifold_alignment(test_list_of_sequences, 2)\n",
    "\n",
    "gamma=0.02\n",
    "#delta = 0.6\n",
    "scores = []  # Liste pour stocker les scores\n",
    "i_values = list(range(1, 50))  # Liste des valeurs de i testées\n",
    "\n",
    "i_max = 0\n",
    "score_max = 0\n",
    "\n",
    "for i in i_values:\n",
    "    ss1 = MEA_stacking(test_list_of_sequences, gamma, 2/i, m=2)\n",
    "    score = levenshtein_distance(ss0, ss1)\n",
    "    scores.append(score)  # Stocker le score\n",
    "\n",
    "    if score > score_max:\n",
    "        score_max = score\n",
    "        i_max = i\n",
    "\n",
    "# 📊 Affichage du graphe\n",
    "plt.figure(figsize=(8, 5))\n",
    "plt.plot(i_values, scores, marker='o', linestyle='-', color='b', label=\"Score Levenshtein\")\n",
    "plt.axvline(i_max, color='r', linestyle='--', label=f\"Max score at i={i_max}\")\n",
    "plt.xlabel(\"Valeur de i\")\n",
    "plt.ylabel(\"Score de Levenshtein\")\n",
    "plt.title(\"Évolution du score en fonction de i\")\n",
    "plt.legend()\n",
    "plt.grid(True)\n",
    "plt.show()\n",
    "\n",
    "print(f\"Meilleure valeur de i : {2/i} avec un score de {score_max}\")\n"
   ]
  },
  {
   "cell_type": "code",
   "execution_count": null,
   "metadata": {},
   "outputs": [],
   "source": [
    "import numpy as np\n",
    "import matplotlib.pyplot as plt\n",
    "from sklearn.metrics import matthews_corrcoef\n",
    "\n",
    "Training_list=[\"tRNA_5.aln\",\n",
    "               \"tRNA_7-clustalw.aln\",\n",
    "               \"tRNA_7.stk\",\n",
    "               \"tRNA_15.stk\"]\n",
    "\n",
    "# Define gamma and delta search ranges\n",
    "gamma_values = np.linspace(0.01, 10, 10)  # Range of gamma values\n",
    "delta_values = np.linspace(0.01, 2, 10)  # Range of delta values\n",
    "\n",
    "# Store best parameters\n",
    "best_gamma = None\n",
    "best_delta = None\n",
    "best_score = -np.inf  # Initialize for maximization\n",
    "\n",
    "# Score matrix for visualization\n",
    "score_matrix = np.zeros((len(gamma_values), len(delta_values)))\n",
    "\n",
    "alifold_list=[]\n",
    "for file_test_list_of_sequences in Training_list:\n",
    "    ss0 = alifold_alignment(rna_files[file_test_list_of_sequences], 2)\n",
    "    alifold_list.append(ss0)\n",
    "\n",
    "# Grid search over gamma and delta\n",
    "for g_idx, gamma in enumerate(gamma_values):\n",
    "    for d_idx, delta in enumerate(delta_values):\n",
    "        total_score = 0\n",
    "        count = 0\n",
    "\n",
    "        # Compute average MCC over all test sets\n",
    "        for i in range (len(Training_list)):\n",
    "            ss0 = alifold_list[i]  # Reference structure\n",
    "            ss1 = MEA_stacking(rna_files[file_test_list_of_sequences][:3], gamma, delta, m=2)  # Predicted structure\n",
    "            \n",
    "            score = levenshtein_distance(ss0, ss1)  # Compute MCC score\n",
    "            \n",
    "            total_score += score\n",
    "            count += 1\n",
    "\n",
    "        avg_score = total_score / count  # Compute mean MCC score\n",
    "        score_matrix[g_idx, d_idx] = avg_score  # Store in matrix\n",
    "\n",
    "        # Update best parameters if new max score is found\n",
    "        if avg_score > best_score:\n",
    "            best_score = avg_score\n",
    "            best_gamma = gamma\n",
    "            best_delta = delta\n",
    "\n",
    "# Heatmap visualization\n",
    "plt.figure(figsize=(10, 6))\n",
    "plt.imshow(score_matrix, aspect='auto', cmap='viridis', extent=[min(delta_values), max(delta_values), max(gamma_values), min(gamma_values)])\n",
    "plt.colorbar(label=\"Average Levenshtein Score\")\n",
    "plt.xlabel(\"Delta\")\n",
    "plt.ylabel(\"Gamma\")\n",
    "plt.title(\"Optimization of Gamma and Delta (Averaged over Training_list)\")\n",
    "plt.scatter(best_delta, best_gamma, color='red', marker='x', s=100, label=f\"Best (γ={best_gamma:.3f}, δ={best_delta:.3f})\")\n",
    "plt.legend()\n",
    "plt.show()\n",
    "\n",
    "print(f\"Best parameters: gamma={best_gamma}, delta={best_delta} with avg Levenshtein score = {best_score:.4f}\")\n"
   ]
  },
  {
   "cell_type": "code",
   "execution_count": null,
   "metadata": {},
   "outputs": [],
   "source": [
    "best_gamma=1.12\n",
    "best_delta=1"
   ]
  },
  {
   "cell_type": "markdown",
   "metadata": {},
   "source": [
    "### Evaluation"
   ]
  },
  {
   "cell_type": "markdown",
   "metadata": {},
   "source": [
    "We used Mathew's correlation coefficient to compare MEA stacking's performance to Alifold's: Base pairs that are not part of the reference structure are counted as false positives only if they are inconsistent with the reference structure, while they are ignored if they can be added to the reference structure."
   ]
  },
  {
   "cell_type": "markdown",
   "metadata": {},
   "source": [
    "In this part we test our \"optimized\" parameters against our test data."
   ]
  },
  {
   "cell_type": "code",
   "execution_count": null,
   "metadata": {},
   "outputs": [],
   "source": [
    "#test data\n",
    "\n",
    "TEST_DATA=[rna_files[\"tRNA_15.stk\"],rna_files[\"tRNA_5.aln\"],rna_files[\"tRNA_7-clustalw.aln\"],rna_files[\"tRNA_7.stk\"]]\n",
    "\n",
    "# MCC similarity matrices\n",
    "for list_of_sequences in TEST_DATA:\n",
    "    structures, sim_matrix = similarity_matrix(list_of_sequences,levenshtein_distance,best_gamma,best_delta,2)\n",
    "    plot_similarity_matrix(sim_matrix, method_names)"
   ]
  },
  {
   "cell_type": "markdown",
   "metadata": {},
   "source": [
    "### Specificity, sensitivity, PPV, F-score"
   ]
  },
  {
   "cell_type": "code",
   "execution_count": null,
   "metadata": {},
   "outputs": [],
   "source": [
    "for list_of_sequences in TEST_DATA:\n",
    "    reference_structure = alifold_alignment(list_of_sequences,2)\n",
    "    predicted_structure = MEA_stacking(list_of_sequences, 1, 1, m=2)\n",
    "    sens, spec, ppv, f1 = evaluate_structure(reference_structure, predicted_structure)\n",
    "    print(f\"Sensitivity: {sens:.3f}, Specificity: {spec:.3f}, PPV: {ppv:.3f}, F1-score: {f1:.3f}\")\n"
   ]
  }
 ],
 "metadata": {
  "kernelspec": {
   "display_name": "vienna",
   "language": "python",
   "name": "python3"
  },
  "language_info": {
   "codemirror_mode": {
    "name": "ipython",
    "version": 3
   },
   "file_extension": ".py",
   "mimetype": "text/x-python",
   "name": "python",
   "nbconvert_exporter": "python",
   "pygments_lexer": "ipython3",
   "version": "3.9.19"
  }
 },
 "nbformat": 4,
 "nbformat_minor": 2
}
